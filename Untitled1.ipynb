{
 "cells": [
  {
   "cell_type": "code",
   "execution_count": 3,
   "metadata": {},
   "outputs": [
    {
     "name": "stdout",
     "output_type": "stream",
     "text": [
      "[2, 4, 6, 8]\n",
      "Fitting 10 folds for each of 16 candidates, totalling 160 fits\n"
     ]
    },
    {
     "name": "stderr",
     "output_type": "stream",
     "text": [
      "[Parallel(n_jobs=-1)]: Done  34 tasks      | elapsed:  1.8min\n",
      "[Parallel(n_jobs=-1)]: Done 160 out of 160 | elapsed: 12.0min finished\n"
     ]
    },
    {
     "name": "stdout",
     "output_type": "stream",
     "text": [
      "Best: -0.447776 using {'n_estimators': 200, 'max_depth': 4}\n",
      "-0.453365 (0.000985) with: {'n_estimators': 50, 'max_depth': 2}\n",
      "-0.451429 (0.001028) with: {'n_estimators': 100, 'max_depth': 2}\n",
      "-0.450715 (0.001028) with: {'n_estimators': 150, 'max_depth': 2}\n",
      "-0.450331 (0.001033) with: {'n_estimators': 200, 'max_depth': 2}\n",
      "-0.448291 (0.000980) with: {'n_estimators': 50, 'max_depth': 4}\n",
      "-0.447780 (0.000987) with: {'n_estimators': 100, 'max_depth': 4}\n",
      "-0.447777 (0.000987) with: {'n_estimators': 150, 'max_depth': 4}\n",
      "-0.447776 (0.000987) with: {'n_estimators': 200, 'max_depth': 4}\n",
      "-0.448291 (0.000980) with: {'n_estimators': 50, 'max_depth': 6}\n",
      "-0.447780 (0.000987) with: {'n_estimators': 100, 'max_depth': 6}\n",
      "-0.447777 (0.000987) with: {'n_estimators': 150, 'max_depth': 6}\n",
      "-0.447776 (0.000987) with: {'n_estimators': 200, 'max_depth': 6}\n",
      "-0.448291 (0.000980) with: {'n_estimators': 50, 'max_depth': 8}\n",
      "-0.447780 (0.000987) with: {'n_estimators': 100, 'max_depth': 8}\n",
      "-0.447777 (0.000987) with: {'n_estimators': 150, 'max_depth': 8}\n",
      "-0.447776 (0.000987) with: {'n_estimators': 200, 'max_depth': 8}\n"
     ]
    }
   ],
   "source": [
    "# XGBoost on Otto dataset, Tune n_estimators and max_depth\n",
    "from pandas import read_csv\n",
    "from xgboost import XGBClassifier\n",
    "import numpy as np\n",
    "from numpy import loadtxt\n",
    "from sklearn.model_selection import GridSearchCV\n",
    "from sklearn.model_selection import StratifiedKFold\n",
    "from sklearn.preprocessing import LabelEncoder\n",
    "import matplotlib\n",
    "matplotlib.use('Agg')\n",
    "from matplotlib import pyplot\n",
    "import numpy\n",
    "# load data\n",
    "dataset = loadtxt('/home/venky/Downloads/portmappings.csv', delimiter=\",\")\n",
    "np.random.shuffle(dataset)\n",
    "# split data into X and y\n",
    "X = dataset[:1000000,0:3]\n",
    "Y = dataset[:1000000,3]\n",
    "np.delete(dataset,[0,1,2,3])\n",
    "label_encoded_y = Y\n",
    "# grid search\n",
    "model = XGBClassifier()\n",
    "n_estimators = [50, 100, 150, 200]\n",
    "max_depth = [2, 4, 6, 8]\n",
    "print(max_depth)\n",
    "param_grid = dict(max_depth=max_depth, n_estimators=n_estimators)\n",
    "kfold = StratifiedKFold(n_splits=10, shuffle=True, random_state=7)\n",
    "grid_search = GridSearchCV(model, param_grid, scoring=\"neg_log_loss\", n_jobs=-1, cv=kfold, verbose=1)\n",
    "grid_result = grid_search.fit(X, label_encoded_y)\n",
    "# summarize results\n",
    "print(\"Best: %f using %s\" % (grid_result.best_score_, grid_result.best_params_))\n",
    "means = grid_result.cv_results_['mean_test_score']\n",
    "stds = grid_result.cv_results_['std_test_score']\n",
    "params = grid_result.cv_results_['params']\n",
    "for mean, stdev, param in zip(means, stds, params):\n",
    "\tprint(\"%f (%f) with: %r\" % (mean, stdev, param))\n",
    "# plot results\n",
    "scores = numpy.array(means).reshape(len(max_depth), len(n_estimators))\n",
    "for i, value in enumerate(max_depth):\n",
    "    pyplot.plot(n_estimators, scores[i], label='depth: ' + str(value))\n",
    "pyplot.legend()\n",
    "pyplot.xlabel('n_estimators')\n",
    "pyplot.ylabel('Log Loss')\n",
    "pyplot.savefig('n_estimators_vs_max_depth.png')"
   ]
  },
  {
   "cell_type": "code",
   "execution_count": 5,
   "metadata": {},
   "outputs": [
    {
     "data": {
      "image/png": "[encoded data removed]",
      "text/plain": [
       "<matplotlib.figure.Figure at 0x7f4fa07cedd0>"
      ]
     },
     "metadata": {},
     "output_type": "display_data"
    }
   ],
   "source": [
    "%matplotlib inline\n",
    "for i, value in enumerate(max_depth):\n",
    "    pyplot.plot(n_estimators, scores[i], label='depth: ' + str(value))\n",
    "pyplot.legend()\n",
    "pyplot.xlabel('n_estimators')\n",
    "pyplot.ylabel('Log Loss')\n",
    "pyplot.savefig('n_estimators_vs_max_depth.png')"
   ]
  },
  {
   "cell_type": "code",
   "execution_count": null,
   "metadata": {},
   "outputs": [],
   "source": []
  }
 ],
 "metadata": {
  "kernelspec": {
   "display_name": "Python 2",
   "language": "python",
   "name": "python2"
  },
  "language_info": {
   "codemirror_mode": {
    "name": "ipython",
    "version": 2
   },
   "file_extension": ".py",
   "mimetype": "text/x-python",
   "name": "python",
   "nbconvert_exporter": "python",
   "pygments_lexer": "ipython2",
   "version": "2.7.12"
  }
 },
 "nbformat": 4,
 "nbformat_minor": 2
}
