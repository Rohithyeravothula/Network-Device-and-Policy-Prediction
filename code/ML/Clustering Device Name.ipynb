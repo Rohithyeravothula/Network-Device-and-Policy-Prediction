{
 "cells": [
  {
   "cell_type": "code",
   "execution_count": 1,
   "metadata": {
    "collapsed": true
   },
   "outputs": [],
   "source": [
    "import matplotlib.pyplot as plt\n",
    "%matplotlib inline\n",
    "import seaborn as sns\n",
    "import pandas as pd\n",
    "import numpy as np\n",
    "from sklearn.cluster import KMeans\n",
    "import json\n",
    "import pprint \n",
    "from sklearn.metrics import precision_recall_fscore_support\n",
    "from sklearn.metrics import accuracy_score"
   ]
  },
  {
   "cell_type": "code",
   "execution_count": 5,
   "metadata": {},
   "outputs": [],
   "source": [
    "# data = pd.read_csv(\"../../data/processed_dataset_comma.csv\")\n",
    "# data = pd.read_csv(\"../../data/processed_merged.csv\")\n",
    "data = pd.read_csv(\"../../data/ipmapping.csv\")"
   ]
  },
  {
   "cell_type": "code",
   "execution_count": 6,
   "metadata": {},
   "outputs": [
    {
     "data": {
      "text/html": [
       "<div>\n",
       "<style>\n",
       "    .dataframe thead tr:only-child th {\n",
       "        text-align: right;\n",
       "    }\n",
       "\n",
       "    .dataframe thead th {\n",
       "        text-align: left;\n",
       "    }\n",
       "\n",
       "    .dataframe tbody tr th {\n",
       "        vertical-align: top;\n",
       "    }\n",
       "</style>\n",
       "<table border=\"1\" class=\"dataframe\">\n",
       "  <thead>\n",
       "    <tr style=\"text-align: right;\">\n",
       "      <th></th>\n",
       "      <th>No.</th>\n",
       "      <th>Time</th>\n",
       "      <th>Source</th>\n",
       "      <th>Destination</th>\n",
       "      <th>Source Mac Address</th>\n",
       "      <th>Detination Mac Address</th>\n",
       "      <th>Source Port</th>\n",
       "      <th>Destination Port</th>\n",
       "      <th>Protocol</th>\n",
       "      <th>Source IP</th>\n",
       "      <th>Destination IP</th>\n",
       "      <th>Source MAC</th>\n",
       "      <th>Destination MAC</th>\n",
       "      <th>Device Type1</th>\n",
       "    </tr>\n",
       "  </thead>\n",
       "  <tbody>\n",
       "    <tr>\n",
       "      <th>0</th>\n",
       "      <td>2</td>\n",
       "      <td>0.003977</td>\n",
       "      <td>D-LinkIn_25:5b:0e</td>\n",
       "      <td>IntelCor_c3:41:79</td>\n",
       "      <td>D-LinkIn_25:5b:0e</td>\n",
       "      <td>IntelCor_c3:41:79</td>\n",
       "      <td>-1</td>\n",
       "      <td>0</td>\n",
       "      <td>3</td>\n",
       "      <td>631</td>\n",
       "      <td>274</td>\n",
       "      <td>b0:c5:54:25:5b:0e</td>\n",
       "      <td>28:b2:bd:c3:41:79</td>\n",
       "      <td>0</td>\n",
       "    </tr>\n",
       "    <tr>\n",
       "      <th>1</th>\n",
       "      <td>3</td>\n",
       "      <td>0.004079</td>\n",
       "      <td>IntelCor_c3:41:79</td>\n",
       "      <td>D-LinkIn_25:5b:0e</td>\n",
       "      <td>IntelCor_c3:41:79</td>\n",
       "      <td>D-LinkIn_25:5b:0e</td>\n",
       "      <td>-1</td>\n",
       "      <td>0</td>\n",
       "      <td>3</td>\n",
       "      <td>274</td>\n",
       "      <td>631</td>\n",
       "      <td>28:b2:bd:c3:41:79</td>\n",
       "      <td>b0:c5:54:25:5b:0e</td>\n",
       "      <td>0</td>\n",
       "    </tr>\n",
       "    <tr>\n",
       "      <th>2</th>\n",
       "      <td>4</td>\n",
       "      <td>0.008831</td>\n",
       "      <td>D-LinkIn_25:5b:0e</td>\n",
       "      <td>IntelCor_c3:41:79</td>\n",
       "      <td>D-LinkIn_25:5b:0e</td>\n",
       "      <td>IntelCor_c3:41:79</td>\n",
       "      <td>-1</td>\n",
       "      <td>0</td>\n",
       "      <td>3</td>\n",
       "      <td>631</td>\n",
       "      <td>274</td>\n",
       "      <td>b0:c5:54:25:5b:0e</td>\n",
       "      <td>28:b2:bd:c3:41:79</td>\n",
       "      <td>0</td>\n",
       "    </tr>\n",
       "    <tr>\n",
       "      <th>3</th>\n",
       "      <td>5</td>\n",
       "      <td>0.667925</td>\n",
       "      <td>192.168.0.20</td>\n",
       "      <td>224.0.0.251</td>\n",
       "      <td>D-LinkIn_25:5b:0e</td>\n",
       "      <td>IPv4mcast_fb</td>\n",
       "      <td>1</td>\n",
       "      <td>1</td>\n",
       "      <td>4</td>\n",
       "      <td>195</td>\n",
       "      <td>255</td>\n",
       "      <td>b0:c5:54:25:5b:0e</td>\n",
       "      <td>01:00:5e:00:00:fb</td>\n",
       "      <td>0</td>\n",
       "    </tr>\n",
       "    <tr>\n",
       "      <th>4</th>\n",
       "      <td>6</td>\n",
       "      <td>0.667951</td>\n",
       "      <td>192.168.0.20</td>\n",
       "      <td>224.0.0.251</td>\n",
       "      <td>D-LinkIn_25:5b:0e</td>\n",
       "      <td>IPv4mcast_fb</td>\n",
       "      <td>1</td>\n",
       "      <td>1</td>\n",
       "      <td>4</td>\n",
       "      <td>195</td>\n",
       "      <td>255</td>\n",
       "      <td>b0:c5:54:25:5b:0e</td>\n",
       "      <td>01:00:5e:00:00:fb</td>\n",
       "      <td>0</td>\n",
       "    </tr>\n",
       "  </tbody>\n",
       "</table>\n",
       "</div>"
      ],
      "text/plain": [
       "   No.      Time             Source        Destination Source Mac Address  \\\n",
       "0    2  0.003977  D-LinkIn_25:5b:0e  IntelCor_c3:41:79  D-LinkIn_25:5b:0e   \n",
       "1    3  0.004079  IntelCor_c3:41:79  D-LinkIn_25:5b:0e  IntelCor_c3:41:79   \n",
       "2    4  0.008831  D-LinkIn_25:5b:0e  IntelCor_c3:41:79  D-LinkIn_25:5b:0e   \n",
       "3    5  0.667925       192.168.0.20        224.0.0.251  D-LinkIn_25:5b:0e   \n",
       "4    6  0.667951       192.168.0.20        224.0.0.251  D-LinkIn_25:5b:0e   \n",
       "\n",
       "  Detination Mac Address  Source Port  Destination Port  Protocol  Source IP  \\\n",
       "0      IntelCor_c3:41:79           -1                 0         3        631   \n",
       "1      D-LinkIn_25:5b:0e           -1                 0         3        274   \n",
       "2      IntelCor_c3:41:79           -1                 0         3        631   \n",
       "3           IPv4mcast_fb            1                 1         4        195   \n",
       "4           IPv4mcast_fb            1                 1         4        195   \n",
       "\n",
       "   Destination IP         Source MAC    Destination MAC  Device Type1  \n",
       "0             274  b0:c5:54:25:5b:0e  28:b2:bd:c3:41:79             0  \n",
       "1             631  28:b2:bd:c3:41:79  b0:c5:54:25:5b:0e             0  \n",
       "2             274  b0:c5:54:25:5b:0e  28:b2:bd:c3:41:79             0  \n",
       "3             255  b0:c5:54:25:5b:0e  01:00:5e:00:00:fb             0  \n",
       "4             255  b0:c5:54:25:5b:0e  01:00:5e:00:00:fb             0  "
      ]
     },
     "execution_count": 6,
     "metadata": {},
     "output_type": "execute_result"
    }
   ],
   "source": [
    "data.head()"
   ]
  },
  {
   "cell_type": "code",
   "execution_count": 9,
   "metadata": {},
   "outputs": [],
   "source": [
    "df = pd.DataFrame()\n",
    "df[\"source_port\"] = data[\"Source Port\"]\n",
    "df[\"destination_port\"] = data[\"Destination Port\"]\n",
    "df[\"source_ip\"] = data[\"Source IP\"]\n",
    "df[\"destination_ip\"] = data[\"Destination IP\"]\n",
    "df[\"device_type\"] = data[\"Device Type1\"]"
   ]
  },
  {
   "cell_type": "code",
   "execution_count": 11,
   "metadata": {},
   "outputs": [
    {
     "data": {
      "text/plain": [
       "source_port         int64\n",
       "destination_port    int64\n",
       "source_ip           int64\n",
       "destination_ip      int64\n",
       "device_type         int64\n",
       "dtype: object"
      ]
     },
     "execution_count": 11,
     "metadata": {},
     "output_type": "execute_result"
    }
   ],
   "source": [
    "#data.dtypes\n",
    "df.dtypes"
   ]
  },
  {
   "cell_type": "code",
   "execution_count": 130,
   "metadata": {},
   "outputs": [
    {
     "name": "stderr",
     "output_type": "stream",
     "text": [
      "/Applications/anaconda3/lib/python3.6/site-packages/ipykernel_launcher.py:1: FutureWarning: convert_objects is deprecated.  Use the data-type specific converters pd.to_datetime, pd.to_timedelta and pd.to_numeric.\n",
      "  \"\"\"Entry point for launching an IPython kernel.\n"
     ]
    }
   ],
   "source": [
    "data = data.convert_objects(convert_numeric=True)"
   ]
  },
  {
   "cell_type": "code",
   "execution_count": 131,
   "metadata": {
    "collapsed": true,
    "scrolled": true
   },
   "outputs": [],
   "source": [
    "data = data.dropna(axis=0, how='any')"
   ]
  },
  {
   "cell_type": "code",
   "execution_count": 132,
   "metadata": {},
   "outputs": [
    {
     "data": {
      "text/plain": [
       "True"
      ]
     },
     "execution_count": 132,
     "metadata": {},
     "output_type": "execute_result"
    }
   ],
   "source": [
    "any(data.isnull())"
   ]
  },
  {
   "cell_type": "code",
   "execution_count": 133,
   "metadata": {},
   "outputs": [
    {
     "data": {
      "text/plain": [
       "Source Port         int64\n",
       "Destination Port    int64\n",
       "Protocol            int64\n",
       "Packet              int64\n",
       "dtype: object"
      ]
     },
     "execution_count": 133,
     "metadata": {},
     "output_type": "execute_result"
    }
   ],
   "source": [
    "data.dtypes"
   ]
  },
  {
   "cell_type": "code",
   "execution_count": 134,
   "metadata": {
    "collapsed": true
   },
   "outputs": [],
   "source": [
    "data = data.dropna()"
   ]
  },
  {
   "cell_type": "code",
   "execution_count": 12,
   "metadata": {
    "collapsed": true
   },
   "outputs": [],
   "source": [
    "corr = data.corr()"
   ]
  },
  {
   "cell_type": "code",
   "execution_count": 13,
   "metadata": {
    "collapsed": true
   },
   "outputs": [],
   "source": [
    "mask = np.zeros_like(corr, dtype=np.bool)\n",
    "mask[np.triu_indices_from(mask)] = True"
   ]
  },
  {
   "cell_type": "code",
   "execution_count": 14,
   "metadata": {},
   "outputs": [
    {
     "data": {
      "text/plain": [
       "<matplotlib.axes._subplots.AxesSubplot at 0x1099b09e8>"
      ]
     },
     "execution_count": 14,
     "metadata": {},
     "output_type": "execute_result"
    },
    {
     "data": {
      "image/png": "[encoded data removed]",
      "text/plain": [
       "<matplotlib.figure.Figure at 0x1099e28d0>"
      ]
     },
     "metadata": {},
     "output_type": "display_data"
    }
   ],
   "source": [
    "f, ax = plt.subplots(figsize=(11, 9))\n",
    "cmap = sns.diverging_palette(220, 10, as_cmap=True)\n",
    "sns.heatmap(corr, mask=mask, cmap=cmap, vmax=.3, center=0,\n",
    "            square=True, linewidths=.5, cbar_kws={\"shrink\": .5})"
   ]
  },
  {
   "cell_type": "code",
   "execution_count": 26,
   "metadata": {
    "collapsed": true
   },
   "outputs": [],
   "source": [
    "train, test = np.split(df.sample(frac=1), [int(.8*len(df))])"
   ]
  },
  {
   "cell_type": "code",
   "execution_count": 27,
   "metadata": {},
   "outputs": [],
   "source": [
    "# X = [\"Length\", \"Source Port\", \"Destination Port\", \"Protocol Index\"]\n",
    "X = [df.columns[0],df.columns[1],df.columns[2],df.columns[3]]\n",
    "y= df.columns[4]"
   ]
  },
  {
   "cell_type": "code",
   "execution_count": 28,
   "metadata": {},
   "outputs": [],
   "source": [
    "kmeans = KMeans(n_clusters=2, random_state = 0).fit(train[X])"
   ]
  },
  {
   "cell_type": "code",
   "execution_count": 29,
   "metadata": {
    "scrolled": true
   },
   "outputs": [
    {
     "data": {
      "text/plain": [
       "array([1, 0, 1, ..., 0, 1, 1], dtype=int32)"
      ]
     },
     "execution_count": 29,
     "metadata": {},
     "output_type": "execute_result"
    }
   ],
   "source": [
    "kmeans.labels_[::10]"
   ]
  },
  {
   "cell_type": "code",
   "execution_count": 30,
   "metadata": {
    "collapsed": true
   },
   "outputs": [],
   "source": [
    "y_out = kmeans.predict(test[X])"
   ]
  },
  {
   "cell_type": "code",
   "execution_count": 31,
   "metadata": {
    "collapsed": true
   },
   "outputs": [],
   "source": [
    "y_true = test[y]"
   ]
  },
  {
   "cell_type": "code",
   "execution_count": 32,
   "metadata": {},
   "outputs": [
    {
     "data": {
      "text/plain": [
       "0.0091266352965510104"
      ]
     },
     "execution_count": 32,
     "metadata": {},
     "output_type": "execute_result"
    }
   ],
   "source": [
    "accuracy_score(y_true, y_out)"
   ]
  },
  {
   "cell_type": "code",
   "execution_count": 33,
   "metadata": {},
   "outputs": [
    {
     "name": "stderr",
     "output_type": "stream",
     "text": [
      "/Applications/anaconda3/lib/python3.6/site-packages/sklearn/metrics/classification.py:1135: UndefinedMetricWarning: Precision and F-score are ill-defined and being set to 0.0 in labels with no predicted samples.\n",
      "  'precision', 'predicted', average, warn_for)\n"
     ]
    },
    {
     "data": {
      "text/plain": [
       "(0.00060676892992396296, 0.024856186700062878, 0.0010980839911256986, None)"
      ]
     },
     "execution_count": 33,
     "metadata": {},
     "output_type": "execute_result"
    }
   ],
   "source": [
    "precision_recall_fscore_support(y_true, y_out, average='macro')"
   ]
  },
  {
   "cell_type": "code",
   "execution_count": 125,
   "metadata": {},
   "outputs": [
    {
     "data": {
      "text/plain": [
       "array([[  0.00000000e+00],\n",
       "       [  0.00000000e+00],\n",
       "       [  6.00000000e+00],\n",
       "       [ -1.68531855e-13],\n",
       "       [  3.00000000e+00],\n",
       "       [  9.00000000e+00],\n",
       "       [  1.50000000e+01],\n",
       "       [  1.10000000e+01],\n",
       "       [  1.50000000e+01],\n",
       "       [  2.00000000e+00],\n",
       "       [  1.20000000e+01],\n",
       "       [  0.00000000e+00],\n",
       "       [  0.00000000e+00],\n",
       "       [  1.50000000e+01],\n",
       "       [  0.00000000e+00],\n",
       "       [  0.00000000e+00],\n",
       "       [  3.00000000e+00],\n",
       "       [  0.00000000e+00],\n",
       "       [  5.00000000e+00],\n",
       "       [  5.00000000e+00],\n",
       "       [  0.00000000e+00],\n",
       "       [  1.50000000e+01],\n",
       "       [  0.00000000e+00],\n",
       "       [  4.00000000e+00],\n",
       "       [  4.00000000e+00],\n",
       "       [  0.00000000e+00],\n",
       "       [ -1.00000000e+00],\n",
       "       [ -1.00000000e+00],\n",
       "       [  0.00000000e+00],\n",
       "       [  0.00000000e+00]])"
      ]
     },
     "execution_count": 125,
     "metadata": {},
     "output_type": "execute_result"
    }
   ],
   "source": [
    "kmeans.cluster_centers_"
   ]
  },
  {
   "cell_type": "code",
   "execution_count": 74,
   "metadata": {},
   "outputs": [
    {
     "data": {
      "text/plain": [
       "<matplotlib.collections.PathCollection at 0x11768cf28>"
      ]
     },
     "execution_count": 74,
     "metadata": {},
     "output_type": "execute_result"
    },
    {
     "data": {
      "image/png": "[encoded data removed]",
      "text/plain": [
       "<matplotlib.figure.Figure at 0x1147af208>"
      ]
     },
     "metadata": {},
     "output_type": "display_data"
    }
   ],
   "source": [
    "LABEL_COLOR_MAP = {0 : 'b',\n",
    "                   1 : 'y'\n",
    "                   }\n",
    "x = test[\"Source Port\"]\n",
    "y = test[\"Protocol Index\"]\n",
    "label_color = [LABEL_COLOR_MAP[l] for l in test[\"Class\"]]\n",
    "plt.scatter(x, y, c=label_color)"
   ]
  },
  {
   "cell_type": "code",
   "execution_count": null,
   "metadata": {
    "collapsed": true
   },
   "outputs": [],
   "source": []
  }
 ],
 "metadata": {
  "kernelspec": {
   "display_name": "Python 3",
   "language": "python",
   "name": "python3"
  },
  "language_info": {
   "codemirror_mode": {
    "name": "ipython",
    "version": 3
   },
   "file_extension": ".py",
   "mimetype": "text/x-python",
   "name": "python",
   "nbconvert_exporter": "python",
   "pygments_lexer": "ipython3",
   "version": "3.6.3"
  }
 },
 "nbformat": 4,
 "nbformat_minor": 2
}
